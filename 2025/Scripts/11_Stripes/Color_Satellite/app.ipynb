{
 "cells": [
  {
   "cell_type": "code",
   "execution_count": 8,
   "id": "95dc56d8",
   "metadata": {},
   "outputs": [],
   "source": [
    "import cv2\n",
    "import numpy as np\n",
    "import matplotlib.pyplot as plt \n",
    "from sklearn.cluster import KMeans\n",
    "from sklearn.metrics import silhouette_score\n",
    "import time\n"
   ]
  },
  {
   "cell_type": "code",
   "execution_count": 14,
   "id": "62ea35e7",
   "metadata": {},
   "outputs": [],
   "source": [
    "\n",
    "# ---------------------------------------------------------------------------------------------- Configuration ---\n",
    "# --- Input --- \n",
    "img_path = 'input/yurimaguas_ls7_2001181_lrg.jpg' \n",
    "# --- Output --- \n",
    "output_path = 'output/output_brightness_sorted_image4.png'\n",
    "output_segmented_path = 'output/output_kmeans_segmented4.png'\n",
    "output_sorted_path = 'output/output_cluster_brightness_sorted4.png'\n",
    "# --- Diagnostic \n",
    "# --- k-means testing range // code commented out below\n",
    "k_range = range (2,11)\n",
    "output_elbow_plot_path = 'output_elbow_plot.png'\n",
    "output_silhouette_plot_path = 'output_silhouette_plot.png'\n",
    "# --- K-means settings\n",
    "CHOSEN_K = 6\n"
   ]
  },
  {
   "cell_type": "code",
   "execution_count": 15,
   "id": "9a8d9812",
   "metadata": {},
   "outputs": [
    {
     "name": "stdout",
     "output_type": "stream",
     "text": [
      "1701\n",
      "The width is 1913\n",
      "3254013\n"
     ]
    }
   ],
   "source": [
    "# --------------------------------------------------------------------------------------- Load Image + convert To numpy Array---\n",
    "# Read image - OpenCV - BGR order [b,g,r] - cv2.IMREAD_UNCHANGED preserve alpha\n",
    "#\n",
    "img_bgr = cv2.imread(img_path, cv2.IMREAD_UNCHANGED)\n",
    "# Check if image exists \n",
    "if img_bgr is None:\n",
    "    print(f\"Error: Could not load image from {img_path}\")\n",
    "    # if no image exit \n",
    "    exit()\n",
    "# Shape of Image \n",
    "if len(img_bgr.shape) != 3 or img_bgr.shape[2] < 3:\n",
    "    print(f\"Error: Image does not appear to be a standard 3-channel color image. Shape: {img_bgr.shape}\")\n",
    "    exit()\n",
    "# Make a copy to avoid modifying the original array if needed elsewhere\n",
    "img_original_shape = img_bgr.shape\n",
    "height, width, channels = img_original_shape\n",
    "num_pixels = height * width\n",
    "print(height)\n",
    "print(f\"The width is {width}\")\n",
    "print(num_pixels)\n",
    "#\n",
    "# flatten img to 2d array with columns = channels (3) tuple \n",
    "pixel_data_flat = img_bgr.reshape(-1, channels).astype(np.float32)\n",
    "#"
   ]
  },
  {
   "cell_type": "code",
   "execution_count": 16,
   "id": "c04d6b67",
   "metadata": {},
   "outputs": [
    {
     "name": "stdout",
     "output_type": "stream",
     "text": [
      "Running K-Means with k=6...\n",
      "Final K-Means took 7.16 seconds.\n"
     ]
    }
   ],
   "source": [
    "print(f\"Running K-Means with k={CHOSEN_K}...\")\n",
    "start_time_final_kmeans = time.time()\n",
    "final_kmeans = KMeans(n_clusters=CHOSEN_K, random_state=42, n_init=10)\n",
    "final_kmeans.fit(pixel_data_flat)\n",
    "cluster_labels = final_kmeans.labels_\n",
    "cluster_centers = final_kmeans.cluster_centers_ # These are the average colors for each cluster\n",
    "end_time_final_kmeans = time.time()\n",
    "print(f\"Final K-Means took {end_time_final_kmeans - start_time_final_kmeans:.2f} seconds.\")"
   ]
  },
  {
   "cell_type": "code",
   "execution_count": 18,
   "id": "0a8b1898",
   "metadata": {},
   "outputs": [
    {
     "name": "stdout",
     "output_type": "stream",
     "text": [
      "K-Means segmented image saved successfully as: output/output_kmeans_segmented4.png\n"
     ]
    }
   ],
   "source": [
    "# ---------------------------------------------------------------------------------- Create Segmented Image from copy of original usking kmeans cluster labels ---\n",
    "# Replace each pixel's value with its corresponding cluster center color\n",
    "segmented_pixel_data = cluster_centers[cluster_labels]\n",
    "segmented_image = segmented_pixel_data.reshape(img_original_shape)\n",
    "\n",
    "# Convert back to original data type for saving (or normalize to uint8)\n",
    "if img_bgr.dtype == np.uint16:\n",
    "    segmented_image_save = segmented_image.astype(np.uint16)\n",
    "    # Or normalize for PNG ---- segmented_image_save = cv2.normalize(segmented_image, None, 0, 255, cv2.NORM_MINMAX).astype(np.uint8)\n",
    "elif img_bgr.dtype == np.uint8:\n",
    "    segmented_image_save = segmented_image.astype(np.uint8)\n",
    "else:\n",
    "    segmented_image_save = segmented_image # Hope for the best\n",
    "\n",
    "save_success_seg = cv2.imwrite(output_segmented_path, segmented_image_save)\n",
    "\n",
    "if save_success_seg:\n",
    "    print(f\"K-Means segmented image saved successfully as: {output_segmented_path}\")\n",
    "else:\n",
    "    print(f\"Error: Failed to save segmented image to {output_segmented_path}\")\n",
    "\n",
    "\n"
   ]
  },
  {
   "cell_type": "code",
   "execution_count": 19,
   "id": "288628d4",
   "metadata": {},
   "outputs": [
    {
     "name": "stdout",
     "output_type": "stream",
     "text": [
      "Sorting pixels by Cluster ID, then by Brightness...\n"
     ]
    }
   ],
   "source": [
    "\n",
    "# ----------------------------------------------------------------------------------------------------------- Calculate Brightness (Luminance) ---\n",
    "# prolly wanna do greyscale for this in the future(?)\n",
    "img_float = img_bgr.astype(np.float32)\n",
    "brightness = 0.114 * img_float[:,:,0] + 0.587 * img_float[:,:,1] + 0.299 * img_float[:,:,2]\n",
    "all_brightness_scores = brightness.flatten()\n",
    "\n",
    "# --- Sort Pixels by Cluster, then Brightness ---\n",
    "print(\"Sorting pixels by Cluster ID, then by Brightness...\")\n",
    "all_original_pixels = img_bgr.reshape(-1, channels)\n",
    "\n",
    "# Combine the data needed for sorting: (original_pixel, cluster_label, brightness) (brigtness currently removed )\n",
    "#  indices reconstruct sorted pixel array \n",
    "pixel_indices = np.arange(num_pixels)\n",
    "combined_sort_data = list(zip(pixel_indices, cluster_labels))\n",
    "\n",
    "# Sort first by cluster label (element 1),  ////////////////////// (removed temp) then by brightness (element 2)\n",
    "# Ascending for both: cluster 0 first, darkest within cluster first\n",
    "sorted_combined_data = sorted(combined_sort_data, key=lambda item: (item[1]))\n",
    "\n",
    "# Get the original pixel values in the new sorted order\n",
    "sorted_indices_final = [item[0] for item in sorted_combined_data]\n",
    "final_sorted_pixels_array = all_original_pixels[sorted_indices_final]\n",
    "\n",
    "# Create pairs of (cluster_label, brightness_score) for sorting criteria\n",
    "# np.lexsort for efficient multi-key sorting.\n",
    "# It sorts by the last column first, so we provide brightness then cluster label.\n",
    "sort_keys = (all_brightness_scores, cluster_labels)\n",
    "sorted_order_indices = np.lexsort(sort_keys)\n",
    "\n",
    "sorted_cluster_labels = cluster_labels[sorted_order_indices]\n",
    "final_sorted_pixels_array = cluster_centers[sorted_cluster_labels] # <-- THE KEY CHANGE\n",
    "# --- Place Pixels Sequentially ---\n",
    "# Reshape the array of centroid colors (which is already in the final sorted order)\n",
    "output_image_sorted = final_sorted_pixels_array.reshape(img_original_shape)\n",
    "\n",
    "\n",
    "# --- Place Pixels Sequentially ---\n",
    "# output_image_sorted = final_sorted_pixels_array.reshape(img_original_shape)\n"
   ]
  },
  {
   "cell_type": "code",
   "execution_count": 20,
   "id": "24fdb2a4",
   "metadata": {},
   "outputs": [
    {
     "name": "stdout",
     "output_type": "stream",
     "text": [
      "Cluster+Brightness sorted image saved successfully as: output/output_cluster_brightness_sorted4.png\n",
      "\n",
      "Process Complete.\n"
     ]
    }
   ],
   "source": [
    "# --- Save Final Sorted Output Image ---\n",
    "if img_bgr.dtype == np.uint16:\n",
    "    output_image_sorted_save = cv2.normalize(output_image_sorted, None, 0, 255, cv2.NORM_MINMAX).astype(np.uint16)\n",
    "elif img_bgr.dtype == np.uint8:\n",
    "    output_image_sorted_save = output_image_sorted.astype(np.uint8)\n",
    "else:\n",
    "    output_image_sorted_save = output_image_sorted\n",
    "\n",
    "save_success_sort = cv2.imwrite(output_sorted_path, output_image_sorted_save)\n",
    "if save_success_sort:\n",
    "    print(f\"Cluster+Brightness sorted image saved successfully as: {output_sorted_path}\")\n",
    "else:\n",
    "    print(f\"Error: Failed to save sorted image to {output_sorted_path}\")\n",
    "\n",
    "print(\"\\nProcess Complete.\")"
   ]
  },
  {
   "cell_type": "markdown",
   "id": "97fd684f",
   "metadata": {},
   "source": []
  }
 ],
 "metadata": {
  "kernelspec": {
   "display_name": "satellite",
   "language": "python",
   "name": "python3"
  },
  "language_info": {
   "codemirror_mode": {
    "name": "ipython",
    "version": 3
   },
   "file_extension": ".py",
   "mimetype": "text/x-python",
   "name": "python",
   "nbconvert_exporter": "python",
   "pygments_lexer": "ipython3",
   "version": "3.11.11"
  }
 },
 "nbformat": 4,
 "nbformat_minor": 5
}
